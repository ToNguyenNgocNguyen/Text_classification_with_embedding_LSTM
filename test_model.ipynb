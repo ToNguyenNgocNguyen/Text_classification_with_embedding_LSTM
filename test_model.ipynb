{
 "cells": [
  {
   "cell_type": "markdown",
   "metadata": {},
   "source": [
    "## Step 1: Import Library and Testing Dataset"
   ]
  },
  {
   "cell_type": "code",
   "execution_count": 1,
   "metadata": {},
   "outputs": [],
   "source": [
    "import json\n",
    "from tqdm import tqdm\n",
    "import numpy as np\n",
    "from keras.utils import pad_sequences\n",
    "from sklearn.metrics import classification_report\n",
    "from keras.models import load_model"
   ]
  },
  {
   "cell_type": "code",
   "execution_count": 2,
   "metadata": {},
   "outputs": [],
   "source": [
    "with open('archive/stopwords-nlp-vi.txt') as f:\n",
    "    stop_word = ['_'.join(word.strip().split()) for word in f.readlines()]"
   ]
  },
  {
   "cell_type": "code",
   "execution_count": 3,
   "metadata": {},
   "outputs": [
    {
     "name": "stdout",
     "output_type": "stream",
     "text": [
      "length dataset: 33759\n",
      "n_topics: 10\n",
      "topics: {0, 1, 2, 3, 4, 5, 6, 7, 8, 9}\n"
     ]
    }
   ],
   "source": [
    "with open(\"archive/test_dict.json\", 'r', encoding = 'utf-16-le') as f:\n",
    "    datatest = json.load(f)\n",
    "\n",
    "len_dataset = len(datatest['topic_ids'])\n",
    "topics = set(datatest['topic_ids'])\n",
    "n_topics = len(topics)\n",
    "print('length dataset:', len_dataset)\n",
    "print('n_topics:', n_topics)\n",
    "print('topics:', topics)"
   ]
  },
  {
   "cell_type": "markdown",
   "metadata": {},
   "source": [
    "## Step 2: Preprocessing dataset"
   ]
  },
  {
   "cell_type": "code",
   "execution_count": 4,
   "metadata": {},
   "outputs": [
    {
     "name": "stderr",
     "output_type": "stream",
     "text": [
      "100%|██████████| 33759/33759 [03:02<00:00, 185.14it/s]\n"
     ]
    }
   ],
   "source": [
    "sentences = []\n",
    "labels = []\n",
    "\n",
    "for sentence, label in tqdm(zip(datatest['contents'], datatest['topic_ids']), total=len_dataset):\n",
    "    sentence = ' '.join([word for word in sentence if word not in stop_word])\n",
    "    sentences.append(sentence)\n",
    "    labels.append(label)"
   ]
  },
  {
   "cell_type": "code",
   "execution_count": 5,
   "metadata": {},
   "outputs": [],
   "source": [
    "import pickle\n",
    "\n",
    "# loading the Tokenizer class\n",
    "with open('tokenizer.pickle', 'rb') as handle:\n",
    "    tokenizer = pickle.load(handle)"
   ]
  },
  {
   "cell_type": "code",
   "execution_count": 6,
   "metadata": {},
   "outputs": [],
   "source": [
    "max_length = 3000\n",
    "trunc_type='post'\n",
    "padding_type='post'\n",
    "\n",
    "# Generate the word index dictionary\n",
    "word_index = tokenizer.word_index\n",
    "\n",
    "# Generate and pad the test sequences\n",
    "testing_sequences = tokenizer.texts_to_sequences(sentences)\n",
    "testing_padded = pad_sequences(testing_sequences, maxlen=max_length, padding=padding_type, truncating=trunc_type)\n",
    "\n",
    "# Convert the labels lists into numpy arrays\n",
    "testing_labels = np.array(labels)"
   ]
  },
  {
   "cell_type": "markdown",
   "metadata": {},
   "source": [
    "## Step 3: Loading Embedding LSTM Model to Test and Evaluation"
   ]
  },
  {
   "cell_type": "code",
   "execution_count": 7,
   "metadata": {},
   "outputs": [
    {
     "name": "stdout",
     "output_type": "stream",
     "text": [
      "Model: \"sequential\"\n",
      "_________________________________________________________________\n",
      " Layer (type)                Output Shape              Param #   \n",
      "=================================================================\n",
      " embedding (Embedding)       (None, 3000, 16)          160000    \n",
      "                                                                 \n",
      " bidirectional (Bidirectiona  (None, 64)               12544     \n",
      " l)                                                              \n",
      "                                                                 \n",
      " dense (Dense)               (None, 24)                1560      \n",
      "                                                                 \n",
      " dense_1 (Dense)             (None, 10)                250       \n",
      "                                                                 \n",
      "=================================================================\n",
      "Total params: 174,354\n",
      "Trainable params: 174,354\n",
      "Non-trainable params: 0\n",
      "_________________________________________________________________\n"
     ]
    }
   ],
   "source": [
    "model_lstm = load_model('my_model.h5')\n",
    "model_lstm.summary()"
   ]
  },
  {
   "cell_type": "code",
   "execution_count": 8,
   "metadata": {},
   "outputs": [
    {
     "name": "stdout",
     "output_type": "stream",
     "text": [
      "1055/1055 [==============================] - 225s 207ms/step\n"
     ]
    }
   ],
   "source": [
    "predictions = model_lstm.predict(testing_padded)"
   ]
  },
  {
   "cell_type": "code",
   "execution_count": 12,
   "metadata": {},
   "outputs": [],
   "source": [
    "prediction_labels = np.argmax(predictions, axis=-1)"
   ]
  },
  {
   "cell_type": "code",
   "execution_count": 15,
   "metadata": {},
   "outputs": [
    {
     "name": "stdout",
     "output_type": "stream",
     "text": [
      "              precision    recall  f1-score   support\n",
      "\n",
      "           0       0.75      0.79      0.77      5219\n",
      "           1       0.71      0.66      0.69      3159\n",
      "           2       0.67      0.72      0.70      1820\n",
      "           3       0.82      0.88      0.85      2552\n",
      "           4       0.83      0.85      0.84      3868\n",
      "           5       0.90      0.86      0.88      3384\n",
      "           6       0.85      0.87      0.86      2898\n",
      "           7       0.98      0.94      0.96      5298\n",
      "           8       0.89      0.87      0.88      3080\n",
      "           9       0.93      0.88      0.90      2481\n",
      "\n",
      "    accuracy                           0.84     33759\n",
      "   macro avg       0.83      0.83      0.83     33759\n",
      "weighted avg       0.84      0.84      0.84     33759\n",
      "\n"
     ]
    }
   ],
   "source": [
    "print(classification_report(testing_labels, prediction_labels))"
   ]
  }
 ],
 "metadata": {
  "kernelspec": {
   "display_name": "MyPythonEnv",
   "language": "python",
   "name": "python3"
  },
  "language_info": {
   "codemirror_mode": {
    "name": "ipython",
    "version": 3
   },
   "file_extension": ".py",
   "mimetype": "text/x-python",
   "name": "python",
   "nbconvert_exporter": "python",
   "pygments_lexer": "ipython3",
   "version": "3.10.12"
  },
  "orig_nbformat": 4
 },
 "nbformat": 4,
 "nbformat_minor": 2
}
